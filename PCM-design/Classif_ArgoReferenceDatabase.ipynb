{
 "cells": [
  {
   "cell_type": "markdown",
   "metadata": {},
   "source": [
    "# Apply PCM to argo reference data base"
   ]
  },
  {
   "cell_type": "markdown",
   "metadata": {},
   "source": [
    "First try"
   ]
  },
  {
   "cell_type": "code",
   "execution_count": null,
   "metadata": {},
   "outputs": [],
   "source": [
    "import xarray as xr\n",
    "import numpy as np\n",
    "import numpy.ma as ma\n",
    "import pandas as pd\n",
    "\n",
    "import pyxpcm\n",
    "from pyxpcm.models import pcm\n",
    "\n",
    "import Plotter\n",
    "from Plotter import Plotter\n",
    "\n",
    "from BIC_calculation import *\n",
    "\n",
    "from classif_functions import *\n",
    "\n",
    "import matplotlib as mpl\n",
    "import matplotlib.pyplot as plt\n",
    "import matplotlib.ticker as mticker\n",
    "\n",
    "import cartopy.feature as cfeature\n",
    "import cartopy.crs as ccrs\n",
    "from cartopy.mpl.gridliner import LONGITUDE_FORMATTER, LATITUDE_FORMATTER\n",
    "\n",
    "import argopy\n",
    "argopy.set_options(src='localftp', local_ftp='/home/coriolis_exp/spool/co05/co0508/')\n",
    "argopy.set_options(mode='expert')\n",
    "\n",
    "from argopy import DataFetcher as ArgoDataFetcher\n",
    "argo_loader = ArgoDataFetcher()\n",
    "\n",
    "import sys\n",
    "np.set_printoptions(threshold=sys.maxsize)"
   ]
  },
  {
   "cell_type": "markdown",
   "metadata": {},
   "source": [
    "### __User inputs__"
   ]
  },
  {
   "cell_type": "markdown",
   "metadata": {},
   "source": [
    "Reference data selection"
   ]
  },
  {
   "cell_type": "code",
   "execution_count": null,
   "metadata": {},
   "outputs": [],
   "source": [
    "# geographical extent\n",
    "geo_extent = [-9, 31, -40, -26] # [min lon, max lon, min lat, max lat]\n",
    "#geo_extent = [-13, 85, -66, -42] #southern ocean\n",
    "#geo_extent = [-70, -40, 32, 50] #north atlantic\n",
    "# depth for interpolation\n",
    "max_depth = 1000\n",
    "# chose season ('DJF', 'MAM', 'JJA', 'SON' or 'all')\n",
    "season = ['all']"
   ]
  },
  {
   "cell_type": "markdown",
   "metadata": {},
   "source": [
    "Float you want to correct"
   ]
  },
  {
   "cell_type": "code",
   "execution_count": null,
   "metadata": {},
   "outputs": [],
   "source": [
    "# southern ocean\n",
    "float_mat_path = '/home1/homedir5/perso/agarciaj/EARISE/DMQC-PCM/OWC-pcm/matlabow/data/float_source/test2/3901928.mat'\n",
    "float_WMO = 3901928\n",
    "# north atlantic \n",
    "#float_mat_path = '/home1/homedir5/perso/agarciaj/EARISE/DMQC-PCM/OWC-pcm/matlabow/data/float_source/test1/4900136.mat'\n",
    "#float_WMO = 4900136"
   ]
  },
  {
   "cell_type": "markdown",
   "metadata": {},
   "source": [
    "Model parameters"
   ]
  },
  {
   "cell_type": "code",
   "execution_count": null,
   "metadata": {},
   "outputs": [],
   "source": [
    "K=4 # number of classes"
   ]
  },
  {
   "cell_type": "markdown",
   "metadata": {},
   "source": [
    "## 1. Load argo reference database and float data"
   ]
  },
  {
   "cell_type": "markdown",
   "metadata": {},
   "source": [
    "__Load argo reference database__"
   ]
  },
  {
   "cell_type": "code",
   "execution_count": null,
   "metadata": {},
   "outputs": [],
   "source": [
    "ds = get_refdata(geo_extent=geo_extent, \n",
    "                 WMOboxes_latlon='WMO_boxes_latlon.txt', \n",
    "                 wmo_boxes='wmo_boxes_argo.mat', \n",
    "                 ref_path = '/home1/homedir5/perso/agarciaj/EARISE/OW/matlabow/data/climatology/',\n",
    "                 season = season)"
   ]
  },
  {
   "cell_type": "code",
   "execution_count": null,
   "metadata": {},
   "outputs": [],
   "source": [
    "print(ds)"
   ]
  },
  {
   "cell_type": "markdown",
   "metadata": {},
   "source": [
    "__load float data__"
   ]
  },
  {
   "cell_type": "code",
   "execution_count": null,
   "metadata": {},
   "outputs": [],
   "source": [
    "ds = add_floatdata(float_WMO, float_mat_path, ds)"
   ]
  },
  {
   "cell_type": "code",
   "execution_count": null,
   "metadata": {},
   "outputs": [],
   "source": [
    "print(ds)"
   ]
  },
  {
   "cell_type": "markdown",
   "metadata": {},
   "source": [
    "plot dataset"
   ]
  },
  {
   "cell_type": "code",
   "execution_count": null,
   "metadata": {},
   "outputs": [],
   "source": [
    "fig, ax = plt.subplots(nrows=1, ncols=1, figsize=(6, 4), dpi=120, facecolor='w', edgecolor='k')\n",
    "sc = ax.pcolor(np.tile(ds['n_profiles'], (len(ds['n_pres']),1)), ds['pres'], ds['temp'], cmap='viridis')\n",
    "ax.invert_yaxis()\n",
    "cbar = plt.colorbar(sc)\n",
    "cbar.set_label('Temperature (°C)', fontsize=10)\n",
    "ax.tick_params(axis=\"x\", labelsize=8)\n",
    "ax.tick_params(axis=\"y\", labelsize=8)\n",
    "ax.set_ylabel('Presure (dbar)', fontsize=10);\n",
    "ax.set_xlabel('n_profiles', fontsize=10);"
   ]
  },
  {
   "cell_type": "markdown",
   "metadata": {},
   "source": [
    "interpolate to standard levels"
   ]
  },
  {
   "cell_type": "code",
   "execution_count": null,
   "metadata": {},
   "outputs": [],
   "source": [
    "std_lev = np.arange(0,max_depth)\n",
    "ds_out = interpolate_standard_levels(ds, std_lev)"
   ]
  },
  {
   "cell_type": "code",
   "execution_count": null,
   "metadata": {},
   "outputs": [],
   "source": [
    "# some format\n",
    "#pres should be negative for the PCM\n",
    "ds_out['PRES_INTERPOLATED'] = -np.abs(ds_out['PRES_INTERPOLATED'].values)\n",
    "#axis attributtes for plotter class\n",
    "ds_out.PRES_INTERPOLATED.attrs['axis'] = 'Z'\n",
    "ds_out.lat.attrs['axis'] = 'Y'\n",
    "ds_out.long.attrs['axis'] = 'X'\n",
    "ds_out.dates.attrs['axis'] = 'T'"
   ]
  },
  {
   "cell_type": "code",
   "execution_count": null,
   "metadata": {},
   "outputs": [],
   "source": [
    "print(ds_out)"
   ]
  },
  {
   "cell_type": "markdown",
   "metadata": {},
   "source": [
    "some plots"
   ]
  },
  {
   "cell_type": "code",
   "execution_count": null,
   "metadata": {},
   "outputs": [],
   "source": [
    "ds_out['temp'].plot(x='n_profiles');"
   ]
  },
  {
   "cell_type": "code",
   "execution_count": null,
   "metadata": {},
   "outputs": [],
   "source": [
    "selected_float_index = [i for i, isource in enumerate(ds_out['source'].values) if isource == 'selected_float']\n",
    "\n",
    "proj=ccrs.PlateCarree()\n",
    "subplot_kw = {'projection': proj}\n",
    "fig, ax = plt.subplots(nrows=1, ncols=1, figsize=(\n",
    "            6, 6), dpi=120, facecolor='w', edgecolor='k', subplot_kw=subplot_kw)\n",
    "\n",
    "p1 = ax.scatter(ds_out['long'], ds_out['lat'], s=3, transform=proj, label='Argo reference data')\n",
    "p2 = ax.plot(ds_out['long'].isel(n_profiles = selected_float_index), ds_out['lat'].isel(n_profiles = selected_float_index), \n",
    "                 'ro-', transform=proj, markersize = 3, label = str(float_WMO) + ' float trajectory')\n",
    "\n",
    "land_feature = cfeature.NaturalEarthFeature(\n",
    "            category='physical', name='land', scale='50m', facecolor=[0.9375, 0.9375, 0.859375])\n",
    "ax.add_feature(land_feature, edgecolor='black')\n",
    "\n",
    "defaults = {'linewidth': .5, 'color': 'gray', 'alpha': 0.5, 'linestyle': '--'}\n",
    "gl = ax.gridlines(crs=ax.projection,draw_labels=True, **defaults)\n",
    "gl.xlocator = mticker.FixedLocator(np.arange(-180, 180+1, 4))\n",
    "gl.ylocator = mticker.FixedLocator(np.arange(-90, 90+1, 4))\n",
    "gl.xformatter = LONGITUDE_FORMATTER\n",
    "gl.yformatter = LATITUDE_FORMATTER\n",
    "gl.xlabel_style = {'fontsize': 5}\n",
    "gl.ylabel_style = {'fontsize': 5}\n",
    "gl.xlabels_top = False\n",
    "gl.ylabels_right = False\n",
    "\n",
    "plt.legend(bbox_to_anchor=(1.02, 1), loc='upper left')"
   ]
  },
  {
   "cell_type": "code",
   "execution_count": null,
   "metadata": {},
   "outputs": [],
   "source": [
    "ds_out['long'].isel(n_profiles = selected_float_index)"
   ]
  },
  {
   "cell_type": "markdown",
   "metadata": {},
   "source": [
    "## 2. Apply PCM"
   ]
  },
  {
   "cell_type": "markdown",
   "metadata": {},
   "source": [
    "Create model"
   ]
  },
  {
   "cell_type": "code",
   "execution_count": null,
   "metadata": {},
   "outputs": [],
   "source": [
    "z_dim = 'PRES_INTERPOLATED'\n",
    "var_name_mdl = ['temp', 'sal']\n",
    "\n",
    "# pcm feature\n",
    "z = ds_out[z_dim]\n",
    "pcm_features = {var_name_mdl[0]: z, var_name_mdl[1]: z}\n",
    "\n",
    "m = pcm(K=K, features=pcm_features)\n",
    "m"
   ]
  },
  {
   "cell_type": "markdown",
   "metadata": {},
   "source": [
    "Fit model"
   ]
  },
  {
   "cell_type": "code",
   "execution_count": null,
   "metadata": {},
   "outputs": [],
   "source": [
    "var_name_ds = ['temp', 'sal']\n",
    "# Variable to be fitted {variable name in model: variable name in dataset}\n",
    "features_in_ds = {var_name_mdl[0] : var_name_ds[0], var_name_mdl[1] : var_name_ds[1]}\n",
    "\n",
    "m.fit_predict(ds_out, features=features_in_ds, dim=z_dim, inplace=True)\n",
    "m"
   ]
  },
  {
   "cell_type": "code",
   "execution_count": null,
   "metadata": {},
   "outputs": [],
   "source": [
    "ds_out = order_class_names(ds_out, K=K)"
   ]
  },
  {
   "cell_type": "code",
   "execution_count": null,
   "metadata": {},
   "outputs": [],
   "source": [
    "m.predict_proba(ds_out, features=features_in_ds, dim=z_dim, inplace=True);"
   ]
  },
  {
   "cell_type": "code",
   "execution_count": null,
   "metadata": {},
   "outputs": [],
   "source": [
    "ds_out = ds_out.pyxpcm.quantile(m, q=[0.05, 0.5, 0.95], of=var_name_ds[0], outname=var_name_ds[0] + '_Q', keep_attrs=True, inplace=True)\n",
    "ds_out = ds_out.pyxpcm.quantile(m, q=[0.05, 0.5, 0.95], of=var_name_ds[1], outname=var_name_ds[1] + '_Q', keep_attrs=True, inplace=True)"
   ]
  },
  {
   "cell_type": "code",
   "execution_count": null,
   "metadata": {},
   "outputs": [],
   "source": [
    "print(ds_out)"
   ]
  },
  {
   "cell_type": "markdown",
   "metadata": {},
   "source": [
    "## 3. BIC plot"
   ]
  },
  {
   "cell_type": "markdown",
   "metadata": {},
   "source": [
    "User input"
   ]
  },
  {
   "cell_type": "code",
   "execution_count": null,
   "metadata": {},
   "outputs": [],
   "source": [
    "corr_dist = 50 # correlation distance in km\n",
    "time_steps = ['2018-01','2018-07']  # time steps to be used into account\n",
    "Nrun = 10 # number of runs for each k\n",
    "NK = 20 # max number of classes to explore"
   ]
  },
  {
   "cell_type": "markdown",
   "metadata": {},
   "source": [
    "BIC calculation __(not std for the moment)__"
   ]
  },
  {
   "cell_type": "code",
   "execution_count": null,
   "metadata": {},
   "outputs": [],
   "source": [
    "BIC = []\n",
    "\n",
    "select_prof = np.arange(0,len(ds_out.n_profiles.values),8)\n",
    "ds_run = ds_out.isel(n_profiles = select_prof)\n",
    "    \n",
    "for i in range(1,NK):\n",
    "    print(i)\n",
    "    model = pcm(K=i, features=pcm_features)\n",
    "    model.fit_predict(ds_run, features=features_in_ds, dim=z_dim)\n",
    "    BIC.append(model.bic(ds_run, features=features_in_ds, dim=z_dim))\n",
    "    \n",
    "#BIC"
   ]
  },
  {
   "cell_type": "markdown",
   "metadata": {},
   "source": [
    "BIC plot"
   ]
  },
  {
   "cell_type": "code",
   "execution_count": null,
   "metadata": {},
   "outputs": [],
   "source": [
    "fig, ax = plt.subplots(nrows=1, ncols=1, figsize=(\n",
    "            6, 6), dpi=120, facecolor='w', edgecolor='k')\n",
    "\n",
    "ax.plot(np.arange(1,NK), BIC)\n",
    "plt.ylabel('BIC')\n",
    "plt.xlabel('Number of classes')\n",
    "plt.xticks(np.arange(NK) + 1)\n",
    "plt.title('Bayesian information criteria (BIC)')\n",
    "\n",
    "print('BIC min: ' + str(np.argmin(BIC) + 1))"
   ]
  },
  {
   "cell_type": "markdown",
   "metadata": {},
   "source": [
    "## 4. Plots"
   ]
  },
  {
   "cell_type": "code",
   "execution_count": null,
   "metadata": {},
   "outputs": [],
   "source": [
    "P = Plotter(ds_out, m, coords_dict= {'latitude': 'lat', 'longitude': 'long', 'time': 'dates'})\n",
    "P.data_type = 'profiles'"
   ]
  },
  {
   "cell_type": "markdown",
   "metadata": {},
   "source": [
    "vertical structure"
   ]
  },
  {
   "cell_type": "code",
   "execution_count": null,
   "metadata": {},
   "outputs": [],
   "source": [
    "P.vertical_structure(q_variable = var_name_ds[0] + '_Q', sharey=True, xlabel='Temperature (°C)', xlim=[-2.5,17.5])"
   ]
  },
  {
   "cell_type": "code",
   "execution_count": null,
   "metadata": {},
   "outputs": [],
   "source": [
    "P.vertical_structure(q_variable = var_name_ds[1] + '_Q', sharey=True, xlabel='Salinity (PSU)', xlim=[33.5,35.6])"
   ]
  },
  {
   "cell_type": "code",
   "execution_count": null,
   "metadata": {},
   "outputs": [],
   "source": [
    "P.vertical_structure_comp(q_variable = var_name_ds[0] + '_Q', plot_q= 'all', xlabel='Temperature (°C)')"
   ]
  },
  {
   "cell_type": "code",
   "execution_count": null,
   "metadata": {},
   "outputs": [],
   "source": [
    "P.vertical_structure_comp(q_variable = var_name_ds[1] + '_Q', plot_q= 'all', xlabel='Salinity (PSU)')"
   ]
  },
  {
   "cell_type": "markdown",
   "metadata": {},
   "source": [
    "spatial distribution"
   ]
  },
  {
   "cell_type": "code",
   "execution_count": null,
   "metadata": {},
   "outputs": [],
   "source": [
    "P.spatial_distribution(lonlat_grid =[8,4])"
   ]
  },
  {
   "cell_type": "markdown",
   "metadata": {},
   "source": [
    "Classes pie chart"
   ]
  },
  {
   "cell_type": "code",
   "execution_count": null,
   "metadata": {},
   "outputs": [],
   "source": [
    "P.pie_classes()"
   ]
  },
  {
   "cell_type": "markdown",
   "metadata": {},
   "source": [
    "Temporal representation"
   ]
  },
  {
   "cell_type": "markdown",
   "metadata": {},
   "source": [
    "Bar plot by month"
   ]
  },
  {
   "cell_type": "code",
   "execution_count": null,
   "metadata": {},
   "outputs": [],
   "source": [
    "P.temporal_distribution(time_bins = 'month')"
   ]
  },
  {
   "cell_type": "markdown",
   "metadata": {},
   "source": [
    "Bar plot by season"
   ]
  },
  {
   "cell_type": "code",
   "execution_count": null,
   "metadata": {},
   "outputs": [],
   "source": [
    "P.temporal_distribution(time_bins = 'season')"
   ]
  },
  {
   "cell_type": "markdown",
   "metadata": {},
   "source": [
    "## 4. Output"
   ]
  },
  {
   "cell_type": "markdown",
   "metadata": {},
   "source": [
    "Create a .txt file with classes"
   ]
  },
  {
   "cell_type": "code",
   "execution_count": null,
   "metadata": {},
   "outputs": [],
   "source": [
    "#create array with source, lat, long and PCM_labels\n",
    "# change long values to 0-360 as used in OW\n",
    "#long_360 = np.mod(ds_out['long'].values, 360)\n",
    "matrix_txt = np.stack((ds_out['source'].values, ds_out['lat'].values, ds_out['long'].values, ds_out['PCM_LABELS'].values), axis=1)\n",
    "header = 'source lat long PCM_LABELS'\n",
    "\n",
    "f= open(\"output_files/PCM_classes_3901928_argo_k4.txt\",\"w+\")\n",
    "np.savetxt(f, matrix_txt, fmt=['%s', '%.3f', '%.3f', '%i'], header=header)\n",
    "f.close() "
   ]
  },
  {
   "cell_type": "markdown",
   "metadata": {},
   "source": [
    "## 5. Plot with AVISO"
   ]
  },
  {
   "cell_type": "markdown",
   "metadata": {},
   "source": [
    "Load AVISO data"
   ]
  },
  {
   "cell_type": "code",
   "execution_count": null,
   "metadata": {},
   "outputs": [],
   "source": [
    "path_aviso = '/home1/homedir5/perso/agarciaj/EARISE/data/AVISO_gulfstream_2004.nc'\n",
    "ds_aviso = xr.open_dataset(path_aviso)\n",
    "ds_aviso"
   ]
  },
  {
   "cell_type": "code",
   "execution_count": null,
   "metadata": {},
   "outputs": [],
   "source": [
    "ds_aviso['longitude'] = np.mod((ds_aviso.longitude.values+180),360)-180\n",
    "ds_aviso"
   ]
  },
  {
   "cell_type": "code",
   "execution_count": null,
   "metadata": {},
   "outputs": [],
   "source": [
    "time_step = '2004-09-03'"
   ]
  },
  {
   "cell_type": "markdown",
   "metadata": {},
   "source": [
    "scatter plot using class"
   ]
  },
  {
   "cell_type": "code",
   "execution_count": null,
   "metadata": {},
   "outputs": [],
   "source": [
    "selected_float_index = [i for i, isource in enumerate(ds_out['source'].values) if isource == 'selected_float']\n",
    "\n",
    "proj=ccrs.PlateCarree()\n",
    "subplot_kw = {'projection': proj}\n",
    "fig, ax = plt.subplots(nrows=1, ncols=1, figsize=(\n",
    "            6, 6), dpi=120, facecolor='w', edgecolor='k', subplot_kw=subplot_kw)\n",
    "\n",
    "sc = ax.pcolormesh(ds_aviso['longitude'], ds_aviso['latitude'], ds_aviso['adt'].sel(time = time_step), cmap='bwr', transform=proj)\n",
    "p1 = ax.scatter(ds_out['long'].isel(n_profiles = selected_float_index), ds_out['lat'].isel(n_profiles = selected_float_index), \n",
    "                 s=8, c=ds_out['PCM_LABELS'].isel(n_profiles = selected_float_index), transform=proj, cmap='Accent')\n",
    "#p2 = ax.scatter(ds_out['long'], ds_out['lat'], s=3, transform=proj, label='Argo reference data')\n",
    "#p3 = ax.plot(ds_out['long'].isel(n_profiles = selected_float_index), ds_out['lat'].isel(n_profiles = selected_float_index), \n",
    "#                 'ro-', transform=proj, markersize = 3, label = str(float_WMO) + ' float trajectory')\n",
    "\n",
    "land_feature = cfeature.NaturalEarthFeature(\n",
    "            category='physical', name='land', scale='50m', facecolor=[0.9375, 0.9375, 0.859375])\n",
    "ax.add_feature(land_feature, edgecolor='black')\n",
    "\n",
    "defaults = {'linewidth': .5, 'color': 'gray', 'alpha': 0.5, 'linestyle': '--'}\n",
    "gl = ax.gridlines(crs=ax.projection,draw_labels=True, **defaults)\n",
    "gl.xlocator = mticker.FixedLocator(np.arange(-180, 180+1, 4))\n",
    "gl.ylocator = mticker.FixedLocator(np.arange(-90, 90+1, 4))\n",
    "gl.xformatter = LONGITUDE_FORMATTER\n",
    "gl.yformatter = LATITUDE_FORMATTER\n",
    "gl.xlabel_style = {'fontsize': 5}\n",
    "gl.ylabel_style = {'fontsize': 5}\n",
    "gl.xlabels_top = False\n",
    "gl.ylabels_right = False\n",
    "\n",
    "#plt.legend(bbox_to_anchor=(1.02, 1), loc='upper left')\n",
    "ax.set_xlim([-64,-48])\n",
    "legend1 = ax.legend(*p1.legend_elements(),\n",
    "                    loc=\"upper right\", title=\"Classes\")\n",
    "ax.add_artist(legend1)"
   ]
  },
  {
   "cell_type": "code",
   "execution_count": null,
   "metadata": {},
   "outputs": [],
   "source": []
  }
 ],
 "metadata": {
  "kernelspec": {
   "display_name": "BlueCloud",
   "language": "python",
   "name": "bluecloud"
  },
  "language_info": {
   "codemirror_mode": {
    "name": "ipython",
    "version": 3
   },
   "file_extension": ".py",
   "mimetype": "text/x-python",
   "name": "python",
   "nbconvert_exporter": "python",
   "pygments_lexer": "ipython3",
   "version": "3.7.6"
  }
 },
 "nbformat": 4,
 "nbformat_minor": 4
}
