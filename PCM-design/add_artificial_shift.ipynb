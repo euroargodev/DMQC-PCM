{
 "cells": [
  {
   "cell_type": "markdown",
   "metadata": {},
   "source": [
    "# __Application of a PCM to the argo reference data base__"
   ]
  },
  {
   "cell_type": "markdown",
   "metadata": {},
   "source": [
    "The aim of this notebook is to apply a Profile Clasification Model (PCM) to the reference profiles chosen by OWC software for correcting an specific profile. The profile WMO is chosen below and the reference profiles comes from the argo reference database. All paths are read from the ow_config.txt file. The notebook produce a .txt including class labels than can be read for the modified version of OWC included in thsi repository. \n",
    "The PCM allows to classify oceanographic profiles depending on its shape (look at BlueCloud notebooks). By using the output of this notebooks in the OWC software, only reference profiles in the same class than de float profiles are used to evaluated it, so profiles in the same dynamic region.\n",
    "Authors\n",
    "Logos"
   ]
  },
  {
   "cell_type": "code",
   "execution_count": null,
   "metadata": {
    "tags": []
   },
   "outputs": [],
   "source": [
    "import xarray as xr\n",
    "import numpy as np\n",
    "import numpy.ma as ma\n",
    "#import pandas as pd\n",
    "\n",
    "import pyxpcm\n",
    "from pyxpcm.models import pcm\n",
    "\n",
    "import Plotter\n",
    "from Plotter import Plotter\n",
    "\n",
    "#from BIC_calculation import *\n",
    "\n",
    "from classif_functions import *\n",
    " \n",
    "import matplotlib as mpl\n",
    "import matplotlib.pyplot as plt\n",
    "import matplotlib.ticker as mticker\n",
    "\n",
    "import cartopy.feature as cfeature\n",
    "import cartopy.crs as ccrs\n",
    "from cartopy.mpl.gridliner import LONGITUDE_FORMATTER, LATITUDE_FORMATTER\n",
    "\n",
    "#import sys\n",
    "#np.set_printoptions(threshold=sys.maxsize)\n",
    "\n",
    "import configparser"
   ]
  },
  {
   "cell_type": "markdown",
   "metadata": {},
   "source": [
    "### __User inputs__"
   ]
  },
  {
   "cell_type": "markdown",
   "metadata": {},
   "source": [
    "__1. Configuration file__\n",
    "\n",
    "Paths are read from the OWC configuration file. You should give the path to this file."
   ]
  },
  {
   "cell_type": "code",
   "execution_count": null,
   "metadata": {},
   "outputs": [],
   "source": [
    "config_filename = '/home1/homedir5/perso/agarciaj/EARISE/DMQC-PCM/OWC-pcm/matlabow/ow_config.txt'"
   ]
  },
  {
   "cell_type": "markdown",
   "metadata": {},
   "source": [
    "path to WMO_boxes_latlon.txt"
   ]
  },
  {
   "cell_type": "code",
   "execution_count": null,
   "metadata": {},
   "outputs": [],
   "source": [
    "WMOboxes_latlon='WMO_boxes_latlon.txt'"
   ]
  },
  {
   "cell_type": "markdown",
   "metadata": {},
   "source": [
    "__2. Interpolation depth__\n",
    "\n",
    "The model can not cope with NaNs should data should be interpolated to the same levels and profiles that are too short will be deleted. Please, choose the max_depth below. We recomend a value around 1000 m, to take into account an important part of the water column in the classification."
   ]
  },
  {
   "cell_type": "code",
   "execution_count": null,
   "metadata": {},
   "outputs": [],
   "source": [
    "# depth for interpolation\n",
    "max_depth = 1000"
   ]
  },
  {
   "cell_type": "markdown",
   "metadata": {},
   "source": [
    "__3. Season__\n",
    "\n",
    "Maybe usefull for decorrelation of the training dataset"
   ]
  },
  {
   "cell_type": "code",
   "execution_count": null,
   "metadata": {},
   "outputs": [],
   "source": [
    "# chose season ('DJF', 'MAM', 'JJA', 'SON' or 'all') for training dataset\n",
    "season = ['all']"
   ]
  },
  {
   "cell_type": "markdown",
   "metadata": {},
   "source": [
    "__4. Float WMO__\n",
    "\n",
    "Float you want to correct"
   ]
  },
  {
   "cell_type": "code",
   "execution_count": null,
   "metadata": {},
   "outputs": [],
   "source": [
    "# Galicia\n",
    "#float_mat_path = config['float_source_directory'] + '/test4/6900230.mat'\n",
    "#float_WMO = 3901915\n",
    "# agulhas current\n",
    "#float_mat_path = config['float_source_directory'] + '/test3/3901915.mat'\n",
    "#float_WMO = 3901915\n",
    "# southern ocean\n",
    "#float_mat_path = config['float_source_directory'] + '/test2/3901928.mat'\n",
    "#float_WMO = 3901928\n",
    "# north atlantic \n",
    "#float_mat_path = '/home1/homedir5/perso/agarciaj/EARISE/DMQC-PCM/OWC-pcm/matlabow/data/float_source/test1/4900136.mat'\n",
    "float_WMO = 4900136"
   ]
  },
  {
   "cell_type": "markdown",
   "metadata": {},
   "source": [
    "__5. Model parameters__\n",
    "\n",
    "Please choose the number of classes. You can have un idea of the best number of classes in your dataset by using the BIC_calculation notebook"
   ]
  },
  {
   "cell_type": "code",
   "execution_count": null,
   "metadata": {},
   "outputs": [],
   "source": [
    "K=4 # number of classes"
   ]
  },
  {
   "cell_type": "markdown",
   "metadata": {
    "tags": []
   },
   "source": [
    "## 1. Load argo reference database"
   ]
  },
  {
   "cell_type": "markdown",
   "metadata": {},
   "source": [
    "Important paths are readed form the config file and data is loaded from the argo reference database"
   ]
  },
  {
   "cell_type": "markdown",
   "metadata": {},
   "source": [
    "Read OWC configuration file"
   ]
  },
  {
   "cell_type": "code",
   "execution_count": null,
   "metadata": {},
   "outputs": [],
   "source": [
    "with open(config_filename) as f:\n",
    "    file_content = '[configuration]\\n' + f.read()\n",
    "\n",
    "config_parser = configparser.RawConfigParser(comment_prefixes='%')\n",
    "config_parser.read_string(file_content)\n",
    "config = config_parser['configuration']"
   ]
  },
  {
   "cell_type": "code",
   "execution_count": null,
   "metadata": {},
   "outputs": [],
   "source": [
    "#wmo_boxes= config['config_directory'] + config['config_wmo_boxes']\n",
    "wmo_boxes='wmo_boxes_argo.mat'\n",
    "#ref_path = '/home1/homedir5/perso/agarciaj/EARISE/OW/matlabow/data/climatology/'\n",
    "ref_path = config['historical_directory']\n",
    "float_mat_path = config['float_source_directory'] + '/test1/' + str(float_WMO)+ '.mat'"
   ]
  },
  {
   "cell_type": "markdown",
   "metadata": {},
   "source": [
    "__Load argo reference database__\n",
    "\n",
    "Talk about ellipses and PV option"
   ]
  },
  {
   "cell_type": "code",
   "execution_count": null,
   "metadata": {},
   "outputs": [],
   "source": [
    "ds = get_refdata(float_mat_path = float_mat_path, \n",
    "                 WMOboxes_latlon = WMOboxes_latlon, \n",
    "                 wmo_boxes = wmo_boxes, \n",
    "                 ref_path = ref_path,\n",
    "                 config = config,\n",
    "                 map_pv_use = 0)"
   ]
  },
  {
   "cell_type": "code",
   "execution_count": null,
   "metadata": {
    "tags": []
   },
   "outputs": [],
   "source": [
    "print(ds)"
   ]
  },
  {
   "cell_type": "markdown",
   "metadata": {},
   "source": [
    "## 2. Create training dataset"
   ]
  },
  {
   "cell_type": "markdown",
   "metadata": {},
   "source": [
    "Use a regular sampling"
   ]
  },
  {
   "cell_type": "code",
   "execution_count": null,
   "metadata": {},
   "outputs": [],
   "source": [
    "ds_t = ds"
   ]
  },
  {
   "cell_type": "code",
   "execution_count": null,
   "metadata": {},
   "outputs": [],
   "source": [
    "%%time\n",
    "corr_dist = 50 # in km\n",
    "ds_t = get_regulargrid_dataset(ds, corr_dist, season=season)"
   ]
  },
  {
   "cell_type": "code",
   "execution_count": null,
   "metadata": {},
   "outputs": [],
   "source": [
    "print(ds_t)"
   ]
  },
  {
   "cell_type": "markdown",
   "metadata": {},
   "source": [
    "__Interpolate to standard levels__"
   ]
  },
  {
   "cell_type": "code",
   "execution_count": null,
   "metadata": {},
   "outputs": [],
   "source": [
    "std_lev = np.arange(0,max_depth)\n",
    "ds_t = interpolate_standard_levels(ds_t, std_lev)"
   ]
  },
  {
   "cell_type": "code",
   "execution_count": null,
   "metadata": {},
   "outputs": [],
   "source": [
    "# some format\n",
    "#pres should be negative for the PCM\n",
    "ds_t['PRES_INTERPOLATED'] = -np.abs(ds_t['PRES_INTERPOLATED'].values)\n",
    "#axis attributtes for plotter class\n",
    "ds_t.PRES_INTERPOLATED.attrs['axis'] = 'Z'\n",
    "ds_t.lat.attrs['axis'] = 'Y'\n",
    "ds_t.long.attrs['axis'] = 'X'\n",
    "ds_t.dates.attrs['axis'] = 'T'"
   ]
  },
  {
   "cell_type": "code",
   "execution_count": null,
   "metadata": {},
   "outputs": [],
   "source": [
    "print(ds_t)"
   ]
  },
  {
   "cell_type": "markdown",
   "metadata": {},
   "source": [
    "## 3. Create prediction dataset"
   ]
  },
  {
   "cell_type": "markdown",
   "metadata": {},
   "source": [
    "Add float data to initial dataset"
   ]
  },
  {
   "cell_type": "code",
   "execution_count": null,
   "metadata": {},
   "outputs": [],
   "source": [
    "ds_p = add_floatdata(float_WMO, float_mat_path, ds)"
   ]
  },
  {
   "cell_type": "code",
   "execution_count": null,
   "metadata": {},
   "outputs": [],
   "source": [
    "print(ds_p)"
   ]
  },
  {
   "cell_type": "markdown",
   "metadata": {},
   "source": [
    "__Interpolate to standard levels__"
   ]
  },
  {
   "cell_type": "code",
   "execution_count": null,
   "metadata": {},
   "outputs": [],
   "source": [
    "std_lev = np.arange(0,max_depth)\n",
    "ds_p = interpolate_standard_levels(ds_p, std_lev)"
   ]
  },
  {
   "cell_type": "code",
   "execution_count": null,
   "metadata": {},
   "outputs": [],
   "source": [
    "# some format\n",
    "#pres should be negative for the PCM\n",
    "ds_p['PRES_INTERPOLATED'] = -np.abs(ds_p['PRES_INTERPOLATED'].values)\n",
    "#axis attributtes for plotter class\n",
    "ds_p.PRES_INTERPOLATED.attrs['axis'] = 'Z'\n",
    "ds_p.lat.attrs['axis'] = 'Y'\n",
    "ds_p.long.attrs['axis'] = 'X'\n",
    "ds_p.dates.attrs['axis'] = 'T'"
   ]
  },
  {
   "cell_type": "code",
   "execution_count": null,
   "metadata": {},
   "outputs": [],
   "source": [
    "print(ds_p)"
   ]
  },
  {
   "cell_type": "markdown",
   "metadata": {},
   "source": [
    "__Plot float trajectory and ref profiles__"
   ]
  },
  {
   "cell_type": "code",
   "execution_count": null,
   "metadata": {},
   "outputs": [],
   "source": [
    "selected_float_index = [i for i, isource in enumerate(ds_p['source'].values) if 'selected_float' in isource]\n",
    "\n",
    "proj=ccrs.PlateCarree()\n",
    "subplot_kw = {'projection': proj}\n",
    "fig, ax = plt.subplots(nrows=1, ncols=1, figsize=(\n",
    "            12, 12), dpi=120, facecolor='w', edgecolor='k', subplot_kw=subplot_kw)\n",
    "\n",
    "p1 = ax.scatter(ds_p['long'], ds_p['lat'], s=3, transform=proj, label='Argo reference data')\n",
    "p2 = ax.plot(ds_p['long'].isel(n_profiles = selected_float_index), ds_p['lat'].isel(n_profiles = selected_float_index), \n",
    "                 'ro', transform=proj, markersize = 3, label = str(float_WMO) + ' float trajectory')\n",
    "\n",
    "land_feature = cfeature.NaturalEarthFeature(\n",
    "            category='physical', name='land', scale='50m', facecolor=[0.9375, 0.9375, 0.859375])\n",
    "ax.add_feature(land_feature, edgecolor='black')\n",
    "\n",
    "defaults = {'linewidth': .5, 'color': 'gray', 'alpha': 0.5, 'linestyle': '--'}\n",
    "gl = ax.gridlines(crs=ax.projection,draw_labels=True, **defaults)\n",
    "gl.xlocator = mticker.FixedLocator(np.arange(-180, 180+1, 4))\n",
    "gl.ylocator = mticker.FixedLocator(np.arange(-90, 90+1, 4))\n",
    "gl.xformatter = LONGITUDE_FORMATTER\n",
    "gl.yformatter = LATITUDE_FORMATTER\n",
    "gl.xlabel_style = {'fontsize': 5}\n",
    "gl.ylabel_style = {'fontsize': 5}\n",
    "gl.xlabels_top = False\n",
    "gl.ylabels_right = False\n",
    "lon_180 = np.mod((ds_p['long']+180),360)-180\n",
    "ax.set_xlim([lon_180.min()-1, lon_180.max()+1])\n",
    "ax.set_ylim([ds_p['lat'].min()-1, ds_p['lat'].max()+1])\n",
    "\n",
    "\n",
    "plt.legend(bbox_to_anchor=(1.02, 1), loc='upper left')"
   ]
  },
  {
   "cell_type": "markdown",
   "metadata": {},
   "source": [
    "## 4. Apply PCM"
   ]
  },
  {
   "cell_type": "markdown",
   "metadata": {},
   "source": [
    "Create model"
   ]
  },
  {
   "cell_type": "code",
   "execution_count": null,
   "metadata": {},
   "outputs": [],
   "source": [
    "z_dim = 'PRES_INTERPOLATED'\n",
    "var_name_mdl = ['temp', 'sal']\n",
    "\n",
    "# pcm feature\n",
    "z = ds_t[z_dim]\n",
    "pcm_features = {var_name_mdl[0]: z, var_name_mdl[1]: z}\n",
    "\n",
    "m = pcm(K=K, features=pcm_features)\n",
    "m"
   ]
  },
  {
   "cell_type": "markdown",
   "metadata": {},
   "source": [
    "Fit model"
   ]
  },
  {
   "cell_type": "code",
   "execution_count": null,
   "metadata": {},
   "outputs": [],
   "source": [
    "var_name_ds = ['temp', 'sal']\n",
    "# Variable to be fitted {variable name in model: variable name in dataset}\n",
    "features_in_ds = {var_name_mdl[0] : var_name_ds[0], var_name_mdl[1] : var_name_ds[1]}\n",
    "\n",
    "m.fit(ds_t, features=features_in_ds, dim=z_dim)\n",
    "m"
   ]
  },
  {
   "cell_type": "markdown",
   "metadata": {},
   "source": [
    "Predict labels"
   ]
  },
  {
   "cell_type": "markdown",
   "metadata": {},
   "source": [
    "Add an artificial shift"
   ]
  },
  {
   "cell_type": "code",
   "execution_count": null,
   "metadata": {},
   "outputs": [],
   "source": [
    "selected_float_index = [i for i, isource in enumerate(ds_p['source'].values) if 'selected_float' in isource]\n",
    "fig, axes = plt.subplots(ncols=1, figsize=(8,8))\n",
    "#loop\n",
    "shift_values = [0, 0.01, 0.02, 0.05, 0.1, 0.2, 0.5]\n",
    "# new dataset\n",
    "\n",
    "ds_p_shift = ds_p.copy()\n",
    "for shift in shift_values:\n",
    "    #add a shift\n",
    "    ds_p_shift['sal'][selected_float_index,:] = ds_p['sal'][selected_float_index,:] + shift\n",
    "    ds_p_shift['sal'][selected_float_index[2],:].plot(y= 'PRES_INTERPOLATED')\n",
    "    #make prediction\n",
    "    prediction = m.predict(ds_p, features=features_in_ds)\n",
    "    #select float values\n",
    "    prediction = prediction.isel(n_profiles = selected_float_index, drop=True)\n",
    "    #save new PCM labels\n",
    "    if shift == 0:\n",
    "        labels_shift = prediction\n",
    "    else:\n",
    "        labels_shift = xr.concat([labels_shift, prediction], dim=\"shift\")\n",
    "\n",
    "labels_shift['shift'] = shift_values"
   ]
  },
  {
   "cell_type": "code",
   "execution_count": null,
   "metadata": {},
   "outputs": [],
   "source": [
    "labels_shift"
   ]
  },
  {
   "cell_type": "code",
   "execution_count": null,
   "metadata": {},
   "outputs": [],
   "source": [
    "profile_number = np.arange(1,len(ds_p['source'].isel(n_profiles = selected_float_index))+1)\n",
    "mesh_x, mesh_y =np.meshgrid(profile_number,shift_values)"
   ]
  },
  {
   "cell_type": "code",
   "execution_count": null,
   "metadata": {},
   "outputs": [],
   "source": [
    "print(np.shape(labels_shift))"
   ]
  },
  {
   "cell_type": "markdown",
   "metadata": {},
   "source": [
    "plot labels"
   ]
  },
  {
   "cell_type": "code",
   "execution_count": null,
   "metadata": {},
   "outputs": [],
   "source": [
    "fig, ax = plt.subplots(figsize=(30, 10))\n",
    "#loop\n",
    "#for nshift in range(len(shift_values)):\n",
    "#    ax.plot(ds_p['source'].isel(n_profiles = selected_float_index), labels_shift[nshift, :], \n",
    "#            'o', label='class='+str(shift_values[nshift]))\n",
    "\n",
    "p1 = ax.scatter(mesh_x, mesh_y, \n",
    "                s=5, c=labels_shift, cmap='Accent')\n",
    "\n",
    "\n",
    "ax.set_ylabel('Artifitially added offset', fontsize=10)\n",
    "ax.set_xlabel('float ' + str(float_WMO) + ' profile number', fontsize=10)\n",
    "#ax.set_title('Reference profiles per float profile')\n",
    "#ax.set_xticks(labels)\n",
    "ax.set_xlim([0.5,len(selected_float_index)+0.5])\n",
    "#ax.set_xticklabels(labels)\n",
    "#ax.legend(bbox_to_anchor=(1.02, 1), loc='upper left')\n",
    "#cbar = plt.colorbar(p1, shrink=0.3)\n",
    "cbar = plt.colorbar(p1, shrink=0.3)\n",
    "#cbar.set_ticks(np.arange(0.5, K+0.5))\n",
    "#cbar.set_ticklabels(range(K))"
   ]
  },
  {
   "cell_type": "code",
   "execution_count": null,
   "metadata": {},
   "outputs": [],
   "source": [
    "#ds_p = ds_t\n",
    "m.predict(ds_p, features=features_in_ds, inplace = True)\n",
    "print(ds_p)"
   ]
  },
  {
   "cell_type": "code",
   "execution_count": null,
   "metadata": {},
   "outputs": [],
   "source": [
    "ds_p = order_class_names(ds_p, K=K)"
   ]
  },
  {
   "cell_type": "code",
   "execution_count": null,
   "metadata": {},
   "outputs": [],
   "source": [
    "m.predict_proba(ds_p, features=features_in_ds, dim=z_dim, inplace=True);"
   ]
  },
  {
   "cell_type": "code",
   "execution_count": null,
   "metadata": {},
   "outputs": [],
   "source": [
    "ds_p = ds_p.pyxpcm.quantile(m, q=[0.05, 0.5, 0.95], of=var_name_ds[0], outname=var_name_ds[0] + '_Q', keep_attrs=True, inplace=True)\n",
    "ds_p = ds_p.pyxpcm.quantile(m, q=[0.05, 0.5, 0.95], of=var_name_ds[1], outname=var_name_ds[1] + '_Q', keep_attrs=True, inplace=True)"
   ]
  },
  {
   "cell_type": "code",
   "execution_count": null,
   "metadata": {},
   "outputs": [],
   "source": [
    "print(ds_p)"
   ]
  },
  {
   "cell_type": "markdown",
   "metadata": {},
   "source": [
    "## 6. Plots"
   ]
  },
  {
   "cell_type": "code",
   "execution_count": null,
   "metadata": {},
   "outputs": [],
   "source": [
    "P = Plotter(ds_p, m, coords_dict= {'latitude': 'lat', 'longitude': 'long', 'time': 'dates'})\n",
    "P.data_type = 'profiles'"
   ]
  },
  {
   "cell_type": "markdown",
   "metadata": {},
   "source": [
    "vertical structure"
   ]
  },
  {
   "cell_type": "code",
   "execution_count": null,
   "metadata": {},
   "outputs": [],
   "source": [
    "P.vertical_structure(q_variable = var_name_ds[0] + '_Q', sharey=True, xlabel='Temperature (°C)', xlim=[0, 28])"
   ]
  },
  {
   "cell_type": "code",
   "execution_count": null,
   "metadata": {},
   "outputs": [],
   "source": [
    "P.vertical_structure(q_variable = var_name_ds[1] + '_Q', sharey=True, xlabel='Salinity (PSU)', xlim=[31.5,37])"
   ]
  },
  {
   "cell_type": "code",
   "execution_count": null,
   "metadata": {},
   "outputs": [],
   "source": [
    "P.vertical_structure_comp(q_variable = var_name_ds[0] + '_Q', plot_q= 'all', xlabel='Temperature (°C)')"
   ]
  },
  {
   "cell_type": "code",
   "execution_count": null,
   "metadata": {},
   "outputs": [],
   "source": [
    "P.vertical_structure_comp(q_variable = var_name_ds[1] + '_Q', plot_q= 'all', xlabel='Salinity (PSU)')"
   ]
  },
  {
   "cell_type": "markdown",
   "metadata": {},
   "source": [
    "spatial distribution"
   ]
  },
  {
   "cell_type": "code",
   "execution_count": null,
   "metadata": {},
   "outputs": [],
   "source": [
    "P.spatial_distribution(lonlat_grid =[8,4])"
   ]
  },
  {
   "cell_type": "markdown",
   "metadata": {},
   "source": [
    "plot float trajectory with classes"
   ]
  },
  {
   "cell_type": "code",
   "execution_count": null,
   "metadata": {},
   "outputs": [],
   "source": [
    "ds_p['PCM_LABELS'].isel(n_profiles = selected_float_index)\n",
    "#ds_p['source'].isel(n_profiles = selected_float_index)"
   ]
  },
  {
   "cell_type": "code",
   "execution_count": null,
   "metadata": {},
   "outputs": [],
   "source": [
    "f= open(\"output_files/add_artificial_shift_4901218.txt\",\"w+\")\n",
    "np.savetxt(f, ds_p['PCM_LABELS'].isel(n_profiles = selected_float_index).values, fmt=['%i'])\n",
    "f.close() "
   ]
  },
  {
   "cell_type": "code",
   "execution_count": null,
   "metadata": {},
   "outputs": [],
   "source": [
    "with open(\"output_files/add_artificial_shift_4901218.txt\", \"ab\") as f:\n",
    "    f.write(b\"\\n\")\n",
    "    np.savetxt(f, ds_p['PCM_LABELS'].isel(n_profiles = selected_float_index).values, fmt=['%i'])"
   ]
  },
  {
   "cell_type": "code",
   "execution_count": null,
   "metadata": {},
   "outputs": [],
   "source": [
    "len(ds_p['source'].isel(n_profiles = selected_float_index))"
   ]
  },
  {
   "cell_type": "code",
   "execution_count": null,
   "metadata": {
    "tags": []
   },
   "outputs": [],
   "source": [
    "selected_float_index = [i for i, isource in enumerate(ds_p['source'].values) if 'selected_float' in isource]\n",
    "\n",
    "kmap = m.plot.cmap(name='Accent')\n",
    "\n",
    "proj=ccrs.PlateCarree()\n",
    "subplot_kw = {'projection': proj}\n",
    "fig, ax = plt.subplots(nrows=1, ncols=1, figsize=(\n",
    "            12, 12), dpi=120, facecolor='w', edgecolor='k', subplot_kw=subplot_kw)\n",
    "\n",
    "#p1 = ax.scatter(ds_p['long'], ds_p['lat'], s=3, c=ds_p['PCM_LABELS'], cmap=kmap, transform=proj, label='Argo reference data', alpha=0)\n",
    "\n",
    "#p2 = ax.scatter(ds_p['long'].isel(n_profiles = selected_float_index), ds_p['lat'].isel(n_profiles = selected_float_index), \n",
    "#                s=4, c=ds_p['PCM_LABELS'].isel(n_profiles = selected_float_index), cmap=kmap, transform=proj)\n",
    "p1 = ax.scatter(ds_p['long'], ds_p['lat'], s=3, c=ds_p['PCM_LABELS'], cmap=kmap, transform=proj, label='Argo reference data')\n",
    "\n",
    "#p3 = ax.plot(ds_p['long'].isel(n_profiles = selected_float_index), ds_p['lat'].isel(n_profiles = selected_float_index), \n",
    "#                 'bo', transform=proj, markersize = 3, markerfacecolor=\"None\", label = str(float_WMO) + ' float trajectory')\n",
    "\n",
    "land_feature = cfeature.NaturalEarthFeature(\n",
    "            category='physical', name='land', scale='50m', facecolor=[0.9375, 0.9375, 0.859375])\n",
    "ax.add_feature(land_feature, edgecolor='black')\n",
    "\n",
    "defaults = {'linewidth': .5, 'color': 'gray', 'alpha': 0.5, 'linestyle': '--'}\n",
    "gl = ax.gridlines(crs=ax.projection,draw_labels=True, **defaults)\n",
    "gl.xlocator = mticker.FixedLocator(np.arange(-180, 180+1, 4))\n",
    "gl.ylocator = mticker.FixedLocator(np.arange(-90, 90+1, 4))\n",
    "gl.xformatter = LONGITUDE_FORMATTER\n",
    "gl.yformatter = LATITUDE_FORMATTER\n",
    "gl.xlabel_style = {'fontsize': 5}\n",
    "gl.ylabel_style = {'fontsize': 5}\n",
    "gl.xlabels_top = False\n",
    "gl.ylabels_right = False\n",
    "lon_180 = np.mod((ds_p['long'].isel(n_profiles = selected_float_index)+180),360)-180\n",
    "ax.set_xlim([lon_180.min()-1, lon_180.max()+1])\n",
    "ax.set_ylim([ds_p['lat'].isel(n_profiles = selected_float_index).min()-1, ds_p['lat'].isel(n_profiles = selected_float_index).max()+1])\n",
    "\n",
    "cbar = plt.colorbar(p1, shrink=0.3)\n",
    "cbar.set_ticks(np.arange(0.5, K+0.5))\n",
    "#cbar.set_ticklabels(range(K))\n",
    "\n",
    "#plt.legend(bbox_to_anchor=(1.02, 1), loc='upper left')"
   ]
  },
  {
   "cell_type": "code",
   "execution_count": null,
   "metadata": {},
   "outputs": [],
   "source": [
    "range(K)"
   ]
  },
  {
   "cell_type": "markdown",
   "metadata": {},
   "source": [
    "Classes pie chart"
   ]
  },
  {
   "cell_type": "code",
   "execution_count": null,
   "metadata": {},
   "outputs": [],
   "source": [
    "P.pie_classes()"
   ]
  },
  {
   "cell_type": "markdown",
   "metadata": {},
   "source": [
    "Temporal representation"
   ]
  },
  {
   "cell_type": "markdown",
   "metadata": {},
   "source": [
    "Bar plot by month"
   ]
  },
  {
   "cell_type": "code",
   "execution_count": null,
   "metadata": {},
   "outputs": [],
   "source": [
    "P.temporal_distribution(time_bins = 'month')"
   ]
  },
  {
   "cell_type": "markdown",
   "metadata": {},
   "source": [
    "Bar plot by season"
   ]
  },
  {
   "cell_type": "code",
   "execution_count": null,
   "metadata": {},
   "outputs": [],
   "source": [
    "P.temporal_distribution(time_bins = 'season')"
   ]
  },
  {
   "cell_type": "markdown",
   "metadata": {},
   "source": [
    "## 7. Output"
   ]
  },
  {
   "cell_type": "markdown",
   "metadata": {},
   "source": [
    "Create a .txt file with classes"
   ]
  },
  {
   "cell_type": "code",
   "execution_count": null,
   "metadata": {},
   "outputs": [],
   "source": [
    "#create array with source, lat, long and PCM_labels\n",
    "# change long values to 0-360 as used in OW\n",
    "#long_360 = np.mod(ds_p['long'].values, 360)\n",
    "\n",
    "matrix_txt = np.stack(('\"'+ ds_p['source'].values + '\"', ds_p['lat'].values, ds_p['long'].values, ds_p['PCM_LABELS'].values), axis=1)\n",
    "#matrix_txt = np.stack((ds_p['source'].values, ds_p['lat'].values, long_360, ds_p['PCM_LABELS'].values), axis=1)\n",
    "header = 'source lat long PCM_LABELS'\n",
    "print([ds_p['long'].min(), ds_p['long'].max()])\n",
    "\n",
    "f= open(\"output_files/PCM_classes_6900230_argo_k4.txt\",\"w+\")\n",
    "np.savetxt(f, matrix_txt, fmt=['%s', '%.3f', '%.3f', '%i'], header=header)\n",
    "f.close() "
   ]
  },
  {
   "cell_type": "markdown",
   "metadata": {},
   "source": [
    "## 8. Plot with AVISO"
   ]
  },
  {
   "cell_type": "markdown",
   "metadata": {},
   "source": [
    "Load AVISO data"
   ]
  },
  {
   "cell_type": "code",
   "execution_count": null,
   "metadata": {},
   "outputs": [],
   "source": [
    "path_aviso = '/home1/homedir5/perso/agarciaj/EARISE/data/AVISO_gulfstream_2004.nc'\n",
    "ds_aviso = xr.open_dataset(path_aviso)\n",
    "ds_aviso"
   ]
  },
  {
   "cell_type": "code",
   "execution_count": null,
   "metadata": {},
   "outputs": [],
   "source": [
    "ds_aviso['longitude'] = np.mod((ds_aviso.longitude.values+180),360)-180\n",
    "ds_aviso"
   ]
  },
  {
   "cell_type": "code",
   "execution_count": null,
   "metadata": {},
   "outputs": [],
   "source": [
    "time_step = '2004-09-03'"
   ]
  },
  {
   "cell_type": "markdown",
   "metadata": {},
   "source": [
    "scatter plot using class"
   ]
  },
  {
   "cell_type": "code",
   "execution_count": null,
   "metadata": {},
   "outputs": [],
   "source": [
    "selected_float_index = [i for i, isource in enumerate(ds_out['source'].values) if isource == 'selected_float']\n",
    "\n",
    "proj=ccrs.PlateCarree()\n",
    "subplot_kw = {'projection': proj}\n",
    "fig, ax = plt.subplots(nrows=1, ncols=1, figsize=(\n",
    "            6, 6), dpi=120, facecolor='w', edgecolor='k', subplot_kw=subplot_kw)\n",
    "\n",
    "sc = ax.pcolormesh(ds_aviso['longitude'], ds_aviso['latitude'], ds_aviso['adt'].sel(time = time_step), cmap='bwr', transform=proj)\n",
    "p1 = ax.scatter(ds_out['long'].isel(n_profiles = selected_float_index), ds_out['lat'].isel(n_profiles = selected_float_index), \n",
    "                 s=8, c=ds_out['PCM_LABELS'].isel(n_profiles = selected_float_index), transform=proj, cmap='Accent')\n",
    "#p2 = ax.scatter(ds_out['long'], ds_out['lat'], s=3, transform=proj, label='Argo reference data')\n",
    "#p3 = ax.plot(ds_out['long'].isel(n_profiles = selected_float_index), ds_out['lat'].isel(n_profiles = selected_float_index), \n",
    "#                 'ro-', transform=proj, markersize = 3, label = str(float_WMO) + ' float trajectory')\n",
    "\n",
    "land_feature = cfeature.NaturalEarthFeature(\n",
    "            category='physical', name='land', scale='50m', facecolor=[0.9375, 0.9375, 0.859375])\n",
    "ax.add_feature(land_feature, edgecolor='black')\n",
    "\n",
    "defaults = {'linewidth': .5, 'color': 'gray', 'alpha': 0.5, 'linestyle': '--'}\n",
    "gl = ax.gridlines(crs=ax.projection,draw_labels=True, **defaults)\n",
    "gl.xlocator = mticker.FixedLocator(np.arange(-180, 180+1, 4))\n",
    "gl.ylocator = mticker.FixedLocator(np.arange(-90, 90+1, 4))\n",
    "gl.xformatter = LONGITUDE_FORMATTER\n",
    "gl.yformatter = LATITUDE_FORMATTER\n",
    "gl.xlabel_style = {'fontsize': 5}\n",
    "gl.ylabel_style = {'fontsize': 5}\n",
    "gl.xlabels_top = False\n",
    "gl.ylabels_right = False\n",
    "\n",
    "#plt.legend(bbox_to_anchor=(1.02, 1), loc='upper left')\n",
    "ax.set_xlim([-64,-48])\n",
    "legend1 = ax.legend(*p1.legend_elements(),\n",
    "                    loc=\"upper right\", title=\"Classes\")\n",
    "ax.add_artist(legend1)"
   ]
  },
  {
   "cell_type": "code",
   "execution_count": null,
   "metadata": {},
   "outputs": [],
   "source": []
  }
 ],
 "metadata": {
  "kernelspec": {
   "display_name": "BlueCloud",
   "language": "python",
   "name": "bluecloud"
  },
  "language_info": {
   "codemirror_mode": {
    "name": "ipython",
    "version": 3
   },
   "file_extension": ".py",
   "mimetype": "text/x-python",
   "name": "python",
   "nbconvert_exporter": "python",
   "pygments_lexer": "ipython3",
   "version": "3.7.6"
  }
 },
 "nbformat": 4,
 "nbformat_minor": 4
}
