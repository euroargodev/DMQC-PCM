{
 "cells": [
  {
   "cell_type": "markdown",
   "metadata": {},
   "source": [
    "## 8. Plot with AVISO"
   ]
  },
  {
   "cell_type": "markdown",
   "metadata": {},
   "source": [
    "Load AVISO data"
   ]
  },
  {
   "cell_type": "code",
   "execution_count": null,
   "metadata": {},
   "outputs": [],
   "source": [
    "path_aviso = '/home1/homedir5/perso/agarciaj/EARISE/data/AVISO_gulfstream_2004.nc'\n",
    "ds_aviso = xr.open_dataset(path_aviso)\n",
    "ds_aviso"
   ]
  },
  {
   "cell_type": "code",
   "execution_count": null,
   "metadata": {},
   "outputs": [],
   "source": [
    "ds_aviso['longitude'] = np.mod((ds_aviso.longitude.values+180),360)-180\n",
    "ds_aviso"
   ]
  },
  {
   "cell_type": "code",
   "execution_count": null,
   "metadata": {},
   "outputs": [],
   "source": [
    "time_step = '2004-09-03'"
   ]
  },
  {
   "cell_type": "markdown",
   "metadata": {},
   "source": [
    "scatter plot using class"
   ]
  },
  {
   "cell_type": "code",
   "execution_count": null,
   "metadata": {},
   "outputs": [],
   "source": [
    "selected_float_index = [i for i, isource in enumerate(ds_out['source'].values) if isource == 'selected_float']\n",
    "\n",
    "proj=ccrs.PlateCarree()\n",
    "subplot_kw = {'projection': proj}\n",
    "fig, ax = plt.subplots(nrows=1, ncols=1, figsize=(\n",
    "            6, 6), dpi=120, facecolor='w', edgecolor='k', subplot_kw=subplot_kw)\n",
    "\n",
    "sc = ax.pcolormesh(ds_aviso['longitude'], ds_aviso['latitude'], ds_aviso['adt'].sel(time = time_step), cmap='bwr', transform=proj)\n",
    "p1 = ax.scatter(ds_out['long'].isel(n_profiles = selected_float_index), ds_out['lat'].isel(n_profiles = selected_float_index), \n",
    "                 s=8, c=ds_out['PCM_LABELS'].isel(n_profiles = selected_float_index), transform=proj, cmap='Accent')\n",
    "\n",
    "#p2 = ax.scatter(ds_out['long'], ds_out['lat'], s=3, transform=proj, label='Argo reference data')\n",
    "#p3 = ax.plot(ds_out['long'].isel(n_profiles = selected_float_index), ds_out['lat'].isel(n_profiles = selected_float_index), \n",
    "#                 'ro-', transform=proj, markersize = 3, label = str(float_WMO) + ' float trajectory')\n",
    "\n",
    "land_feature = cfeature.NaturalEarthFeature(\n",
    "            category='physical', name='land', scale='50m', facecolor=[0.9375, 0.9375, 0.859375])\n",
    "ax.add_feature(land_feature, edgecolor='black')\n",
    "\n",
    "\n",
    "defaults = {'linewidth': .5, 'color': 'gray', 'alpha': 0.5, 'linestyle': '--'}\n",
    "gl = ax.gridlines(crs=ax.projection,draw_labels=True, **defaults)\n",
    "gl.xlocator = mticker.FixedLocator(np.arange(-180, 180+1, 4))\n",
    "gl.ylocator = mticker.FixedLocator(np.arange(-90, 90+1, 4))\n",
    "gl.xformatter = LONGITUDE_FORMATTER\n",
    "gl.yformatter = LATITUDE_FORMATTER\n",
    "gl.xlabel_style = {'fontsize': 5}\n",
    "gl.ylabel_style = {'fontsize': 5}\n",
    "gl.xlabels_top = False\n",
    "gl.ylabels_right = False\n",
    "\n",
    "#plt.legend(bbox_to_anchor=(1.02, 1), loc='upper left')\n",
    "ax.set_xlim([-64,-48])\n",
    "legend1 = ax.legend(*p1.legend_elements(),\n",
    "                    loc=\"upper right\", title=\"Classes\")\n",
    "ax.add_artist(legend1)"
   ]
  }
 ],
 "metadata": {
  "kernelspec": {
   "display_name": "BlueCloud",
   "language": "python",
   "name": "bluecloud"
  },
  "language_info": {
   "codemirror_mode": {
    "name": "ipython",
    "version": 3
   },
   "file_extension": ".py",
   "mimetype": "text/x-python",
   "name": "python",
   "nbconvert_exporter": "python",
   "pygments_lexer": "ipython3",
   "version": "3.7.6"
  }
 },
 "nbformat": 4,
 "nbformat_minor": 4
}
